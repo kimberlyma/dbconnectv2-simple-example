{
 "cells": [
  {
   "cell_type": "code",
   "execution_count": 2,
   "metadata": {},
   "outputs": [],
   "source": [
    "from decouple import config\n",
    "import os\n",
    "from pyspark import SparkConf\n",
    "from pyspark.sql.session import SparkSession\n",
    "import pyspark.sql.functions as F\n",
    "import pyspark.sql.types as T"
   ]
  },
  {
   "cell_type": "code",
   "execution_count": 3,
   "metadata": {},
   "outputs": [],
   "source": [
    "token = config('TOKEN')\n",
    "cluster_id = config('CLUSTER_ID')\n",
    "workspace_url = config('WORKSPACE_URL')\n",
    "connection_string = (f\"sc://{workspace_url}:443/;\"f\"token={token};\"\"use_ssl=true;\"\n",
    "                     f\"x-databricks-cluster-id={cluster_id}\")"
   ]
  },
  {
   "cell_type": "code",
   "execution_count": 4,
   "metadata": {},
   "outputs": [
    {
     "name": "stdout",
     "output_type": "stream",
     "text": [
      "+--------------------+\n",
      "|             catalog|\n",
      "+--------------------+\n",
      "|      103020_ctg_dev|\n",
      "|__databricks_inte...|\n",
      "|    _daiwt_warehouse|\n",
      "|   _dbt_catalog_olya|\n",
      "|        aaugustyniak|\n",
      "|abc_press_holding...|\n",
      "|             abe_cat|\n",
      "|            abe_demo|\n",
      "|            acme_avo|\n",
      "|    acme_inc_catalog|\n",
      "|         adnan_demos|\n",
      "|               adobe|\n",
      "|     adrian_tompkins|\n",
      "|            adubey_1|\n",
      "|              ae_dev|\n",
      "|            afolting|\n",
      "|         airbus-demo|\n",
      "|       airbus-demouc|\n",
      "|          airbus_oee|\n",
      "|        airties_bim1|\n",
      "+--------------------+\n",
      "only showing top 20 rows\n",
      "\n"
     ]
    }
   ],
   "source": [
    "os.environ['SPARK_REMOTE'] = connection_string \n",
    "spark = SparkSession.builder.getOrCreate()\n",
    "# test check connection to cluster\n",
    "spark.sql(\"show catalogs\").show()"
   ]
  },
  {
   "cell_type": "code",
   "execution_count": 11,
   "metadata": {},
   "outputs": [],
   "source": [
    "users = spark.sql(\"select * from kmahoney.default.sample_user_data\")"
   ]
  },
  {
   "cell_type": "code",
   "execution_count": 12,
   "metadata": {},
   "outputs": [],
   "source": [
    "import matplotlib.pyplot as plt\n",
    "\n",
    "users_pdf = users.toPandas()"
   ]
  },
  {
   "cell_type": "code",
   "execution_count": 19,
   "metadata": {},
   "outputs": [
    {
     "data": {
      "text/plain": [
       "<Axes: xlabel='device_type'>"
      ]
     },
     "execution_count": 19,
     "metadata": {},
     "output_type": "execute_result"
    },
    {
     "data": {
      "image/png": "[encoded data removed]",
      "text/plain": [
       "<Figure size 640x480 with 1 Axes>"
      ]
     },
     "metadata": {},
     "output_type": "display_data"
    }
   ],
   "source": [
    "users_pdf.groupby(['device_type'])['device_type'].count().plot(kind = 'bar')"
   ]
  }
 ],
 "metadata": {
  "kernelspec": {
   "display_name": "pytest-poetry-tFp-qDvF-py3.10",
   "language": "python",
   "name": "python3"
  },
  "language_info": {
   "codemirror_mode": {
    "name": "ipython",
    "version": 3
   },
   "file_extension": ".py",
   "mimetype": "text/x-python",
   "name": "python",
   "nbconvert_exporter": "python",
   "pygments_lexer": "ipython3",
   "version": "3.10.8"
  },
  "orig_nbformat": 4
 },
 "nbformat": 4,
 "nbformat_minor": 2
}
